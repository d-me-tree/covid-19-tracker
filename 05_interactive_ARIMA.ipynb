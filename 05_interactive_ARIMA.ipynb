{
 "cells": [
  {
   "cell_type": "code",
   "execution_count": 12,
   "id": "sporting-vermont",
   "metadata": {},
   "outputs": [],
   "source": [
    "import warnings\n",
    "warnings.simplefilter('ignore')"
   ]
  },
  {
   "cell_type": "code",
   "execution_count": 97,
   "id": "dutch-closer",
   "metadata": {},
   "outputs": [],
   "source": [
    "from datetime import datetime, timedelta\n",
    "import itertools\n",
    "\n",
    "import pandas as pd\n",
    "import numpy as np\n",
    "\n",
    "%matplotlib inline\n",
    "%config InlineBackend.figure_format='retina'\n",
    "import matplotlib.pyplot as plt\n",
    "import matplotlib.ticker as mtick\n",
    "import seaborn as sns\n",
    "\n",
    "from statsmodels.tsa.arima.model import ARIMA\n",
    "\n",
    "import time\n",
    "import threading\n",
    "import ipywidgets as widgets"
   ]
  },
  {
   "cell_type": "code",
   "execution_count": 3,
   "id": "mobile-zoning",
   "metadata": {},
   "outputs": [
    {
     "name": "stdout",
     "output_type": "stream",
     "text": [
      "<class 'pandas.core.frame.DataFrame'>\n",
      "DatetimeIndex: 382 entries, 2020-01-22 to 2021-02-06\n",
      "Columns: 193 entries, Afghanistan to Zimbabwe\n",
      "dtypes: int64(193)\n",
      "memory usage: 579.0 KB\n"
     ]
    },
    {
     "data": {
      "text/html": [
       "<div>\n",
       "<style scoped>\n",
       "    .dataframe tbody tr th:only-of-type {\n",
       "        vertical-align: middle;\n",
       "    }\n",
       "\n",
       "    .dataframe tbody tr th {\n",
       "        vertical-align: top;\n",
       "    }\n",
       "\n",
       "    .dataframe thead th {\n",
       "        text-align: right;\n",
       "    }\n",
       "</style>\n",
       "<table border=\"1\" class=\"dataframe\">\n",
       "  <thead>\n",
       "    <tr style=\"text-align: right;\">\n",
       "      <th>country</th>\n",
       "      <th>Afghanistan</th>\n",
       "      <th>Albania</th>\n",
       "      <th>Algeria</th>\n",
       "      <th>Andorra</th>\n",
       "      <th>Angola</th>\n",
       "      <th>Antigua and Barbuda</th>\n",
       "      <th>Argentina</th>\n",
       "      <th>Armenia</th>\n",
       "      <th>Australia</th>\n",
       "      <th>Austria</th>\n",
       "      <th>...</th>\n",
       "      <th>Uruguay</th>\n",
       "      <th>Uzbekistan</th>\n",
       "      <th>Vanuatu</th>\n",
       "      <th>Venezuela</th>\n",
       "      <th>Vietnam</th>\n",
       "      <th>West Bank and Gaza</th>\n",
       "      <th>World</th>\n",
       "      <th>Yemen</th>\n",
       "      <th>Zambia</th>\n",
       "      <th>Zimbabwe</th>\n",
       "    </tr>\n",
       "  </thead>\n",
       "  <tbody>\n",
       "    <tr>\n",
       "      <th>2021-02-04</th>\n",
       "      <td>55231</td>\n",
       "      <td>81993</td>\n",
       "      <td>108381</td>\n",
       "      <td>10137</td>\n",
       "      <td>19996</td>\n",
       "      <td>268</td>\n",
       "      <td>1961635</td>\n",
       "      <td>167568</td>\n",
       "      <td>28842</td>\n",
       "      <td>419801</td>\n",
       "      <td>...</td>\n",
       "      <td>43804</td>\n",
       "      <td>78916</td>\n",
       "      <td>1</td>\n",
       "      <td>128775</td>\n",
       "      <td>1957</td>\n",
       "      <td>161087</td>\n",
       "      <td>104857988</td>\n",
       "      <td>2122</td>\n",
       "      <td>59003</td>\n",
       "      <td>34171</td>\n",
       "    </tr>\n",
       "    <tr>\n",
       "      <th>2021-02-05</th>\n",
       "      <td>55265</td>\n",
       "      <td>83082</td>\n",
       "      <td>108629</td>\n",
       "      <td>10172</td>\n",
       "      <td>20030</td>\n",
       "      <td>277</td>\n",
       "      <td>1970009</td>\n",
       "      <td>167726</td>\n",
       "      <td>28848</td>\n",
       "      <td>421189</td>\n",
       "      <td>...</td>\n",
       "      <td>44303</td>\n",
       "      <td>78989</td>\n",
       "      <td>1</td>\n",
       "      <td>129231</td>\n",
       "      <td>1976</td>\n",
       "      <td>161559</td>\n",
       "      <td>105392577</td>\n",
       "      <td>2124</td>\n",
       "      <td>60427</td>\n",
       "      <td>34331</td>\n",
       "    </tr>\n",
       "    <tr>\n",
       "      <th>2021-02-06</th>\n",
       "      <td>55330</td>\n",
       "      <td>84212</td>\n",
       "      <td>108629</td>\n",
       "      <td>10206</td>\n",
       "      <td>20062</td>\n",
       "      <td>288</td>\n",
       "      <td>1976689</td>\n",
       "      <td>167937</td>\n",
       "      <td>28851</td>\n",
       "      <td>422522</td>\n",
       "      <td>...</td>\n",
       "      <td>44812</td>\n",
       "      <td>79045</td>\n",
       "      <td>1</td>\n",
       "      <td>129643</td>\n",
       "      <td>1985</td>\n",
       "      <td>162029</td>\n",
       "      <td>105764730</td>\n",
       "      <td>2127</td>\n",
       "      <td>61427</td>\n",
       "      <td>34487</td>\n",
       "    </tr>\n",
       "  </tbody>\n",
       "</table>\n",
       "<p>3 rows × 193 columns</p>\n",
       "</div>"
      ],
      "text/plain": [
       "country     Afghanistan  Albania  Algeria  Andorra  Angola  \\\n",
       "2021-02-04        55231    81993   108381    10137   19996   \n",
       "2021-02-05        55265    83082   108629    10172   20030   \n",
       "2021-02-06        55330    84212   108629    10206   20062   \n",
       "\n",
       "country     Antigua and Barbuda  Argentina  Armenia  Australia  Austria  ...  \\\n",
       "2021-02-04                  268    1961635   167568      28842   419801  ...   \n",
       "2021-02-05                  277    1970009   167726      28848   421189  ...   \n",
       "2021-02-06                  288    1976689   167937      28851   422522  ...   \n",
       "\n",
       "country     Uruguay  Uzbekistan  Vanuatu  Venezuela  Vietnam  \\\n",
       "2021-02-04    43804       78916        1     128775     1957   \n",
       "2021-02-05    44303       78989        1     129231     1976   \n",
       "2021-02-06    44812       79045        1     129643     1985   \n",
       "\n",
       "country     West Bank and Gaza      World  Yemen  Zambia  Zimbabwe  \n",
       "2021-02-04              161087  104857988   2122   59003     34171  \n",
       "2021-02-05              161559  105392577   2124   60427     34331  \n",
       "2021-02-06              162029  105764730   2127   61427     34487  \n",
       "\n",
       "[3 rows x 193 columns]"
      ]
     },
     "execution_count": 3,
     "metadata": {},
     "output_type": "execute_result"
    }
   ],
   "source": [
    "repo = 'https://raw.githubusercontent.com/CSSEGISandData/COVID-19'\n",
    "branch = f'{repo}/master'\n",
    "\n",
    "df = (pd.read_csv(f'{branch}/csse_covid_19_data/csse_covid_19_time_series/time_series_covid19_confirmed_global.csv')\n",
    "      .drop(columns=['Province/State', 'Lat', 'Long'])\n",
    "      .rename(columns={'Country/Region': 'country'})\n",
    "      .groupby('country').sum())\n",
    "\n",
    "# Add World and transpose\n",
    "df = (df\n",
    "      .append(df.sum(axis='index').rename('World'))\n",
    "      .sort_index()\n",
    "      .transpose()\n",
    "      .set_index(pd.to_datetime(df.columns.values)))\n",
    "\n",
    "\n",
    "df.info()\n",
    "df.tail(3)"
   ]
  },
  {
   "cell_type": "markdown",
   "id": "advisory-cause",
   "metadata": {},
   "source": [
    "## Time Series Forecasting\n",
    "- [statsmodels v0.12.0 ARIMA](https://www.statsmodels.org/v0.12.0/generated/statsmodels.tsa.arima.model.ARIMA.html)\n",
    "- [How to Create an ARIMA Model for Time Series Forecasting in Python](https://machinelearningmastery.com/arima-for-time-series-forecasting-with-python/)\n",
    "- [How to Grid Search ARIMA Model Hyperparameters with Python](https://machinelearningmastery.com/grid-search-arima-hyperparameters-with-python/)\n",
    " - [statsmodels ARIMA: how to get confidence interval?](https://stackoverflow.com/a/64283961/1592674)"
   ]
  },
  {
   "cell_type": "code",
   "execution_count": 112,
   "id": "italic-layout",
   "metadata": {},
   "outputs": [],
   "source": [
    "def split(ts):\n",
    "    \"\"\" Splitting 95%/5% because of little amount of data. \"\"\"\n",
    "    size = int(len(ts) * 0.95)\n",
    "    train, test = ts[:size], ts[size:]\n",
    "    return train, test\n",
    "\n",
    "\n",
    "def mape(y1, y_pred):\n",
    "    \"\"\" Mean absolute prediction error. \"\"\"\n",
    "    y1, y_pred = np.array(y1), np.array(y_pred)\n",
    "    return np.mean(np.abs((y1 - y_pred) / y1)) * 100\n",
    "\n",
    "\n",
    "def predict_next_n_days(data, pdq, n=2):\n",
    "    model = ARIMA(data, order=pdq, freq='D').fit()\n",
    "    \n",
    "    forecast = model.get_forecast(data.index[-1].date() + timedelta(days=n))\n",
    "    yhat = forecast.predicted_mean\n",
    "    yhat_conf_int = forecast.conf_int(alpha=0.05)\n",
    "\n",
    "    ci_lo = yhat_conf_int.iloc[:, 0]\n",
    "    ci_up = yhat_conf_int.iloc[:, 1]\n",
    "\n",
    "    # PLOT\n",
    "    fig, ax = plt.subplots(figsize=(12, 6))\n",
    "\n",
    "    # ts\n",
    "    _ = data['2020-11-01':].plot(ax=ax, label=data.name)\n",
    "\n",
    "    # CI\n",
    "    _ = ci_lo.plot(ax=ax, alpha=0.2, color='C0', label='')\n",
    "    _ = ci_up.plot(ax=ax, alpha=0.2, color='C0', label='')\n",
    "\n",
    "    # forecast\n",
    "    _ = pd.concat([data.tail(1), yhat]).plot(ax=ax, ls='--', color='C1', label='forecast')\n",
    "\n",
    "    # Fill\n",
    "    _ = ax.fill_between(yhat_conf_int.index, ci_lo, ci_up, alpha=0.2, label='95% CI')\n",
    "\n",
    "    ax.get_yaxis().set_major_formatter(mtick.EngFormatter())\n",
    "    legend = ax.legend()\n",
    "    sns.despine()\n",
    "    fig.tight_layout()\n",
    "    \n",
    "    predicted_values = pd.concat([\n",
    "        data.tail(1),\n",
    "        yhat,\n",
    "    ]).round(0).astype(int)\n",
    "    \n",
    "    return predicted_values"
   ]
  },
  {
   "cell_type": "markdown",
   "id": "useful-definition",
   "metadata": {},
   "source": [
    "- [Interacting with output widgets from background threads](https://ipywidgets.readthedocs.io/en/latest/examples/Output%20Widget.html#Interacting-with-output-widgets-from-background-threads)"
   ]
  },
  {
   "cell_type": "code",
   "execution_count": 109,
   "id": "written-print",
   "metadata": {},
   "outputs": [
    {
     "data": {
      "application/vnd.jupyter.widget-view+json": {
       "model_id": "0ea982a1108e4dbeaee3f67faed2b02a",
       "version_major": 2,
       "version_minor": 0
      },
      "text/plain": [
       "interactive(children=(Combobox(value='', description='Country:', ensure_option=True, options=('Afghanistan', '…"
      ]
     },
     "metadata": {},
     "output_type": "display_data"
    }
   ],
   "source": [
    "countries = df.columns.tolist()\n",
    "\n",
    "w = widgets.Combobox(\n",
    "#     value='World',\n",
    "    placeholder='Choose Country',\n",
    "    options=countries,\n",
    "    description='Country:',\n",
    "    ensure_option=True,\n",
    "    disabled=False\n",
    ")\n",
    "\n",
    "\n",
    "@widgets.interact(country=w)\n",
    "def prediction(country):\n",
    "    if not country:\n",
    "        return\n",
    "    \n",
    "    data = df[country]\n",
    "\n",
    "    def arima(ts, test):\n",
    "        \"\"\" Arima modeling for ts. \"\"\"\n",
    "        p = d = q = range(0, 8)\n",
    "        pdq = tuple(itertools.product(p,d,q))\n",
    "        total = len(pdq)\n",
    "        \n",
    "        # PROGRESS BAR WIDGET\n",
    "        progress = widgets.FloatProgress(value=0, min=0, max=total, description='Loading: ')\n",
    "        processed = 0\n",
    "        \n",
    "        def work(progress):\n",
    "            total = len(pdq)\n",
    "            while processed < total:\n",
    "                time.sleep(0.2)\n",
    "                progress.value = processed\n",
    "            else:\n",
    "                progress.value = total\n",
    "\n",
    "        thread = threading.Thread(target=work, args=(progress,))\n",
    "        display(progress)\n",
    "        thread.start()\n",
    "\n",
    "        # Determining the best parameters\n",
    "        a = 99999\n",
    "        param = tuple()\n",
    "        for var in pdq:\n",
    "            \n",
    "            try:\n",
    "                \n",
    "                model = ARIMA(ts, order=var, freq='D')\n",
    "                result = model.fit()\n",
    "                \n",
    "                if (result.aic <= a):\n",
    "                    a = result.aic\n",
    "                    param = var\n",
    "                    \n",
    "            except:\n",
    "                continue\n",
    "            \n",
    "            finally:\n",
    "                processed += 1\n",
    "        \n",
    "        print(param)\n",
    "        model = ARIMA(ts, order=param, freq='D').fit()\n",
    "        \n",
    "        forecast = model_fit.get_forecast(len(test))\n",
    "        yhat = forecast.predicted_mean\n",
    "\n",
    "        # PLOT test vs predictions\n",
    "        fig, ax = plt.subplots(figsize=(12, 6))\n",
    "        \n",
    "        # ts\n",
    "        _ = data['2020-11-01':].plot(ax=ax, label=ts.name)\n",
    "        _ = yhat.plot(ax=ax, ls='--', color='C1', label='forecast')\n",
    "        \n",
    "    train, test = split(data)\n",
    "    arima(train, test)"
   ]
  },
  {
   "cell_type": "code",
   "execution_count": 114,
   "id": "considerable-signature",
   "metadata": {},
   "outputs": [
    {
     "data": {
      "image/png": "[encoded data removed]",
      "text/plain": [
       "<Figure size 864x432 with 1 Axes>"
      ]
     },
     "metadata": {
      "image/png": {
       "height": 423,
       "width": 856
      },
      "needs_background": "light"
     },
     "output_type": "display_data"
    }
   ],
   "source": [
    "uk = df['United Kingdom']\n",
    "prediction = predict_next_n_days(uk, pdq=(3, 6, 1), n=2)"
   ]
  },
  {
   "cell_type": "code",
   "execution_count": 115,
   "id": "later-sentence",
   "metadata": {},
   "outputs": [
    {
     "data": {
      "text/plain": [
       "2021-02-06    3941273\n",
       "2021-02-07    3954532\n",
       "2021-02-08    3958302\n",
       "dtype: int64"
      ]
     },
     "execution_count": 115,
     "metadata": {},
     "output_type": "execute_result"
    },
    {
     "data": {
      "text/plain": [
       "2021-02-06    NaN\n",
       "2021-02-07    0.3\n",
       "2021-02-08    0.1\n",
       "dtype: float64"
      ]
     },
     "execution_count": 115,
     "metadata": {},
     "output_type": "execute_result"
    }
   ],
   "source": [
    "prediction\n",
    "(prediction.pct_change() * 100).round(1)"
   ]
  },
  {
   "cell_type": "code",
   "execution_count": 118,
   "id": "trying-intersection",
   "metadata": {},
   "outputs": [
    {
     "data": {
      "text/plain": [
       "2021-02-06    13259.0\n",
       "2021-02-07     3770.0\n",
       "2021-02-08        NaN\n",
       "dtype: float64"
      ]
     },
     "execution_count": 118,
     "metadata": {},
     "output_type": "execute_result"
    }
   ],
   "source": [
    "prediction.shift(-1) - prediction"
   ]
  },
  {
   "cell_type": "markdown",
   "id": "amino-service",
   "metadata": {},
   "source": [
    "## Voilà\n",
    "\n",
    "- To learn about converting a Jupyter notebook into a voilá dashboard, you can refer to this [tutorial](https://blog.jupyter.org/and-voil%C3%A0-f6a2c08a4a93) by the Voilá team.\n",
    "- Voilá [Documentation](https://voila.readthedocs.io/en/stable/using.html)\n",
    "- This GitHub repo offers a step-by-step guide on how to [deploy your Voilá dashboard on Heroku](https://github.com/voila-dashboards/voila-heroku).\n",
    "\n",
    "\n",
    "```bash\n",
    "voila 05_interactive_ARIMA.ipynb\n",
    "```"
   ]
  }
 ],
 "metadata": {
  "kernelspec": {
   "display_name": "Python 3",
   "language": "python",
   "name": "python3"
  },
  "language_info": {
   "codemirror_mode": {
    "name": "ipython",
    "version": 3
   },
   "file_extension": ".py",
   "mimetype": "text/x-python",
   "name": "python",
   "nbconvert_exporter": "python",
   "pygments_lexer": "ipython3",
   "version": "3.7.9"
  }
 },
 "nbformat": 4,
 "nbformat_minor": 5
}
