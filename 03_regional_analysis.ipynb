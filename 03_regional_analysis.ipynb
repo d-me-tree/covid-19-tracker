{
 "cells": [
  {
   "cell_type": "code",
   "execution_count": 1,
   "id": "pregnant-russian",
   "metadata": {},
   "outputs": [],
   "source": [
    "import warnings\n",
    "warnings.filterwarnings('ignore')"
   ]
  },
  {
   "cell_type": "code",
   "execution_count": 2,
   "id": "organic-seller",
   "metadata": {},
   "outputs": [],
   "source": [
    "from datetime import datetime\n",
    "\n",
    "import pandas as pd\n",
    "import numpy as np\n",
    "\n",
    "%matplotlib inline\n",
    "%config InlineBackend.figure_format='retina'\n",
    "import matplotlib.pyplot as plt\n",
    "import seaborn as sns\n",
    "\n",
    "import ipywidgets as widgets"
   ]
  },
  {
   "cell_type": "code",
   "execution_count": 3,
   "id": "editorial-metro",
   "metadata": {},
   "outputs": [
    {
     "name": "stdout",
     "output_type": "stream",
     "text": [
      "cases_country.csv\n",
      "time_series_covid19_confirmed_US.csv\n",
      "time_series_covid19_confirmed_global.csv\n",
      "time_series_covid19_deaths_US.csv\n",
      "time_series_covid19_deaths_global.csv\n",
      "time_series_covid19_recovered_global.csv\n"
     ]
    }
   ],
   "source": [
    "!ls data"
   ]
  },
  {
   "cell_type": "markdown",
   "id": "wired-pharmaceutical",
   "metadata": {},
   "source": [
    "After the global analysis, spend some time studying the COVID-19 outspread in a specific country. Uncover the crisis in different regions of the United States by analyzing the US time series dataset for deaths and confirmed cases."
   ]
  },
  {
   "cell_type": "code",
   "execution_count": 5,
   "id": "lesbian-cartridge",
   "metadata": {},
   "outputs": [
    {
     "name": "stdout",
     "output_type": "stream",
     "text": [
      "<class 'pandas.core.frame.DataFrame'>\n",
      "RangeIndex: 3340 entries, 0 to 3339\n",
      "Columns: 372 entries, UID to 1/16/21\n",
      "dtypes: float64(3), int64(363), object(6)\n",
      "memory usage: 9.5+ MB\n"
     ]
    },
    {
     "data": {
      "text/html": [
       "<div>\n",
       "<style scoped>\n",
       "    .dataframe tbody tr th:only-of-type {\n",
       "        vertical-align: middle;\n",
       "    }\n",
       "\n",
       "    .dataframe tbody tr th {\n",
       "        vertical-align: top;\n",
       "    }\n",
       "\n",
       "    .dataframe thead th {\n",
       "        text-align: right;\n",
       "    }\n",
       "</style>\n",
       "<table border=\"1\" class=\"dataframe\">\n",
       "  <thead>\n",
       "    <tr style=\"text-align: right;\">\n",
       "      <th></th>\n",
       "      <th>UID</th>\n",
       "      <th>iso2</th>\n",
       "      <th>iso3</th>\n",
       "      <th>code3</th>\n",
       "      <th>FIPS</th>\n",
       "      <th>Admin2</th>\n",
       "      <th>Province_State</th>\n",
       "      <th>Country_Region</th>\n",
       "      <th>Lat</th>\n",
       "      <th>Long_</th>\n",
       "      <th>...</th>\n",
       "      <th>1/7/21</th>\n",
       "      <th>1/8/21</th>\n",
       "      <th>1/9/21</th>\n",
       "      <th>1/10/21</th>\n",
       "      <th>1/11/21</th>\n",
       "      <th>1/12/21</th>\n",
       "      <th>1/13/21</th>\n",
       "      <th>1/14/21</th>\n",
       "      <th>1/15/21</th>\n",
       "      <th>1/16/21</th>\n",
       "    </tr>\n",
       "  </thead>\n",
       "  <tbody>\n",
       "    <tr>\n",
       "      <th>0</th>\n",
       "      <td>84001001</td>\n",
       "      <td>US</td>\n",
       "      <td>USA</td>\n",
       "      <td>840</td>\n",
       "      <td>1001.0</td>\n",
       "      <td>Autauga</td>\n",
       "      <td>Alabama</td>\n",
       "      <td>US</td>\n",
       "      <td>32.539527</td>\n",
       "      <td>-86.644082</td>\n",
       "      <td>...</td>\n",
       "      <td>4705</td>\n",
       "      <td>4770</td>\n",
       "      <td>4847</td>\n",
       "      <td>4879</td>\n",
       "      <td>4902</td>\n",
       "      <td>4970</td>\n",
       "      <td>4998</td>\n",
       "      <td>5075</td>\n",
       "      <td>5103</td>\n",
       "      <td>5154</td>\n",
       "    </tr>\n",
       "    <tr>\n",
       "      <th>1</th>\n",
       "      <td>84001003</td>\n",
       "      <td>US</td>\n",
       "      <td>USA</td>\n",
       "      <td>840</td>\n",
       "      <td>1003.0</td>\n",
       "      <td>Baldwin</td>\n",
       "      <td>Alabama</td>\n",
       "      <td>US</td>\n",
       "      <td>30.727750</td>\n",
       "      <td>-87.722071</td>\n",
       "      <td>...</td>\n",
       "      <td>14845</td>\n",
       "      <td>15052</td>\n",
       "      <td>15202</td>\n",
       "      <td>15327</td>\n",
       "      <td>15417</td>\n",
       "      <td>15572</td>\n",
       "      <td>15701</td>\n",
       "      <td>15841</td>\n",
       "      <td>16002</td>\n",
       "      <td>16176</td>\n",
       "    </tr>\n",
       "    <tr>\n",
       "      <th>2</th>\n",
       "      <td>84001005</td>\n",
       "      <td>US</td>\n",
       "      <td>USA</td>\n",
       "      <td>840</td>\n",
       "      <td>1005.0</td>\n",
       "      <td>Barbour</td>\n",
       "      <td>Alabama</td>\n",
       "      <td>US</td>\n",
       "      <td>31.868263</td>\n",
       "      <td>-85.387129</td>\n",
       "      <td>...</td>\n",
       "      <td>1614</td>\n",
       "      <td>1634</td>\n",
       "      <td>1648</td>\n",
       "      <td>1658</td>\n",
       "      <td>1663</td>\n",
       "      <td>1679</td>\n",
       "      <td>1685</td>\n",
       "      <td>1696</td>\n",
       "      <td>1712</td>\n",
       "      <td>1723</td>\n",
       "    </tr>\n",
       "  </tbody>\n",
       "</table>\n",
       "<p>3 rows × 372 columns</p>\n",
       "</div>"
      ],
      "text/plain": [
       "        UID iso2 iso3  code3    FIPS   Admin2 Province_State Country_Region  \\\n",
       "0  84001001   US  USA    840  1001.0  Autauga        Alabama             US   \n",
       "1  84001003   US  USA    840  1003.0  Baldwin        Alabama             US   \n",
       "2  84001005   US  USA    840  1005.0  Barbour        Alabama             US   \n",
       "\n",
       "         Lat      Long_  ... 1/7/21  1/8/21  1/9/21  1/10/21  1/11/21  \\\n",
       "0  32.539527 -86.644082  ...   4705    4770    4847     4879     4902   \n",
       "1  30.727750 -87.722071  ...  14845   15052   15202    15327    15417   \n",
       "2  31.868263 -85.387129  ...   1614    1634    1648     1658     1663   \n",
       "\n",
       "   1/12/21  1/13/21  1/14/21  1/15/21  1/16/21  \n",
       "0     4970     4998     5075     5103     5154  \n",
       "1    15572    15701    15841    16002    16176  \n",
       "2     1679     1685     1696     1712     1723  \n",
       "\n",
       "[3 rows x 372 columns]"
      ]
     },
     "execution_count": 5,
     "metadata": {},
     "output_type": "execute_result"
    }
   ],
   "source": [
    "us_confirmed_df = pd.read_csv('data/time_series_covid19_confirmed_US.csv')\n",
    "\n",
    "us_confirmed_df.info()\n",
    "us_confirmed_df.head(3)"
   ]
  },
  {
   "cell_type": "code",
   "execution_count": 6,
   "id": "verbal-subcommittee",
   "metadata": {},
   "outputs": [
    {
     "name": "stdout",
     "output_type": "stream",
     "text": [
      "<class 'pandas.core.frame.DataFrame'>\n",
      "RangeIndex: 3340 entries, 0 to 3339\n",
      "Columns: 373 entries, UID to 1/16/21\n",
      "dtypes: float64(3), int64(364), object(6)\n",
      "memory usage: 9.5+ MB\n"
     ]
    },
    {
     "data": {
      "text/html": [
       "<div>\n",
       "<style scoped>\n",
       "    .dataframe tbody tr th:only-of-type {\n",
       "        vertical-align: middle;\n",
       "    }\n",
       "\n",
       "    .dataframe tbody tr th {\n",
       "        vertical-align: top;\n",
       "    }\n",
       "\n",
       "    .dataframe thead th {\n",
       "        text-align: right;\n",
       "    }\n",
       "</style>\n",
       "<table border=\"1\" class=\"dataframe\">\n",
       "  <thead>\n",
       "    <tr style=\"text-align: right;\">\n",
       "      <th></th>\n",
       "      <th>UID</th>\n",
       "      <th>iso2</th>\n",
       "      <th>iso3</th>\n",
       "      <th>code3</th>\n",
       "      <th>FIPS</th>\n",
       "      <th>Admin2</th>\n",
       "      <th>Province_State</th>\n",
       "      <th>Country_Region</th>\n",
       "      <th>Lat</th>\n",
       "      <th>Long_</th>\n",
       "      <th>...</th>\n",
       "      <th>1/7/21</th>\n",
       "      <th>1/8/21</th>\n",
       "      <th>1/9/21</th>\n",
       "      <th>1/10/21</th>\n",
       "      <th>1/11/21</th>\n",
       "      <th>1/12/21</th>\n",
       "      <th>1/13/21</th>\n",
       "      <th>1/14/21</th>\n",
       "      <th>1/15/21</th>\n",
       "      <th>1/16/21</th>\n",
       "    </tr>\n",
       "  </thead>\n",
       "  <tbody>\n",
       "    <tr>\n",
       "      <th>0</th>\n",
       "      <td>84001001</td>\n",
       "      <td>US</td>\n",
       "      <td>USA</td>\n",
       "      <td>840</td>\n",
       "      <td>1001.0</td>\n",
       "      <td>Autauga</td>\n",
       "      <td>Alabama</td>\n",
       "      <td>US</td>\n",
       "      <td>32.539527</td>\n",
       "      <td>-86.644082</td>\n",
       "      <td>...</td>\n",
       "      <td>50</td>\n",
       "      <td>50</td>\n",
       "      <td>53</td>\n",
       "      <td>54</td>\n",
       "      <td>55</td>\n",
       "      <td>55</td>\n",
       "      <td>55</td>\n",
       "      <td>55</td>\n",
       "      <td>55</td>\n",
       "      <td>55</td>\n",
       "    </tr>\n",
       "    <tr>\n",
       "      <th>1</th>\n",
       "      <td>84001003</td>\n",
       "      <td>US</td>\n",
       "      <td>USA</td>\n",
       "      <td>840</td>\n",
       "      <td>1003.0</td>\n",
       "      <td>Baldwin</td>\n",
       "      <td>Alabama</td>\n",
       "      <td>US</td>\n",
       "      <td>30.727750</td>\n",
       "      <td>-87.722071</td>\n",
       "      <td>...</td>\n",
       "      <td>171</td>\n",
       "      <td>171</td>\n",
       "      <td>173</td>\n",
       "      <td>173</td>\n",
       "      <td>173</td>\n",
       "      <td>175</td>\n",
       "      <td>175</td>\n",
       "      <td>177</td>\n",
       "      <td>179</td>\n",
       "      <td>182</td>\n",
       "    </tr>\n",
       "    <tr>\n",
       "      <th>2</th>\n",
       "      <td>84001005</td>\n",
       "      <td>US</td>\n",
       "      <td>USA</td>\n",
       "      <td>840</td>\n",
       "      <td>1005.0</td>\n",
       "      <td>Barbour</td>\n",
       "      <td>Alabama</td>\n",
       "      <td>US</td>\n",
       "      <td>31.868263</td>\n",
       "      <td>-85.387129</td>\n",
       "      <td>...</td>\n",
       "      <td>35</td>\n",
       "      <td>35</td>\n",
       "      <td>35</td>\n",
       "      <td>35</td>\n",
       "      <td>35</td>\n",
       "      <td>35</td>\n",
       "      <td>35</td>\n",
       "      <td>36</td>\n",
       "      <td>36</td>\n",
       "      <td>36</td>\n",
       "    </tr>\n",
       "  </tbody>\n",
       "</table>\n",
       "<p>3 rows × 373 columns</p>\n",
       "</div>"
      ],
      "text/plain": [
       "        UID iso2 iso3  code3    FIPS   Admin2 Province_State Country_Region  \\\n",
       "0  84001001   US  USA    840  1001.0  Autauga        Alabama             US   \n",
       "1  84001003   US  USA    840  1003.0  Baldwin        Alabama             US   \n",
       "2  84001005   US  USA    840  1005.0  Barbour        Alabama             US   \n",
       "\n",
       "         Lat      Long_  ... 1/7/21  1/8/21  1/9/21  1/10/21  1/11/21  \\\n",
       "0  32.539527 -86.644082  ...     50      50      53       54       55   \n",
       "1  30.727750 -87.722071  ...    171     171     173      173      173   \n",
       "2  31.868263 -85.387129  ...     35      35      35       35       35   \n",
       "\n",
       "   1/12/21  1/13/21  1/14/21  1/15/21  1/16/21  \n",
       "0       55       55       55       55       55  \n",
       "1      175      175      177      179      182  \n",
       "2       35       35       36       36       36  \n",
       "\n",
       "[3 rows x 373 columns]"
      ]
     },
     "execution_count": 6,
     "metadata": {},
     "output_type": "execute_result"
    }
   ],
   "source": [
    "us_death_df = pd.read_csv('data/time_series_covid19_deaths_US.csv')\n",
    "\n",
    "us_death_df.info()\n",
    "us_death_df.head(3)"
   ]
  },
  {
   "cell_type": "code",
   "execution_count": 11,
   "id": "august-reminder",
   "metadata": {},
   "outputs": [
    {
     "data": {
      "text/plain": [
       "False"
      ]
     },
     "execution_count": 11,
     "metadata": {},
     "output_type": "execute_result"
    }
   ],
   "source": [
    "set(us_confirmed_df.columns.values) == set(us_death_df.columns.values)"
   ]
  },
  {
   "cell_type": "code",
   "execution_count": 12,
   "id": "imperial-wichita",
   "metadata": {},
   "outputs": [
    {
     "data": {
      "text/plain": [
       "set()"
      ]
     },
     "execution_count": 12,
     "metadata": {},
     "output_type": "execute_result"
    },
    {
     "data": {
      "text/plain": [
       "{'Population'}"
      ]
     },
     "execution_count": 12,
     "metadata": {},
     "output_type": "execute_result"
    }
   ],
   "source": [
    "set(us_confirmed_df.columns.values) - set(us_death_df.columns.values)\n",
    "set(us_death_df.columns.values) - set(us_confirmed_df.columns.values)"
   ]
  },
  {
   "cell_type": "code",
   "execution_count": 14,
   "id": "imperial-prince",
   "metadata": {},
   "outputs": [
    {
     "data": {
      "text/plain": [
       "['UID',\n",
       " 'iso2',\n",
       " 'iso3',\n",
       " 'code3',\n",
       " 'FIPS',\n",
       " 'Admin2',\n",
       " 'Province_State',\n",
       " 'Country_Region',\n",
       " 'Lat',\n",
       " 'Long_']"
      ]
     },
     "execution_count": 14,
     "metadata": {},
     "output_type": "execute_result"
    }
   ],
   "source": [
    "us_confirmed_df.columns.tolist()[:10]"
   ]
  },
  {
   "cell_type": "code",
   "execution_count": 24,
   "id": "enabling-undergraduate",
   "metadata": {},
   "outputs": [],
   "source": [
    "cols_to_drop = [\n",
    "    'UID',\n",
    "    'iso2',\n",
    "    'iso3',\n",
    "    'code3',\n",
    "    'FIPS',\n",
    "    'Admin2',\n",
    "    'Country_Region',\n",
    "    'Lat',\n",
    "    'Long_',\n",
    "]"
   ]
  },
  {
   "cell_type": "code",
   "execution_count": 26,
   "id": "divine-secondary",
   "metadata": {},
   "outputs": [
    {
     "data": {
      "text/plain": [
       "state\n",
       "California        2959863\n",
       "Texas             2112662\n",
       "Florida           1560186\n",
       "New York          1228867\n",
       "Illinois          1064667\n",
       "Ohio               821507\n",
       "Georgia            809663\n",
       "Pennsylvania       765489\n",
       "Tennessee          680847\n",
       "North Carolina     667826\n",
       "Name: 1/16/21, dtype: int64"
      ]
     },
     "execution_count": 26,
     "metadata": {},
     "output_type": "execute_result"
    }
   ],
   "source": [
    "conf = (us_confirmed_df.drop(columns=cols_to_drop)\n",
    " .rename(columns={'Province_State': 'state'})\n",
    " .groupby('state').sum())\n",
    "\n",
    "conf.iloc[:, -1].nlargest(10)"
   ]
  },
  {
   "cell_type": "code",
   "execution_count": 34,
   "id": "internal-might",
   "metadata": {},
   "outputs": [
    {
     "data": {
      "text/plain": [
       "state\n",
       "New York         40806\n",
       "California       33408\n",
       "Texas            32428\n",
       "Florida          24004\n",
       "New Jersey       20414\n",
       "Illinois         20020\n",
       "Pennsylvania     19143\n",
       "Michigan         14669\n",
       "Massachusetts    13583\n",
       "Georgia          12291\n",
       "Name: 1/16/21, dtype: int64"
      ]
     },
     "execution_count": 34,
     "metadata": {},
     "output_type": "execute_result"
    }
   ],
   "source": [
    "deaths = (us_death_df.drop(columns=cols_to_drop + ['Population'])\n",
    " .rename(columns={'Province_State': 'state'})\n",
    " .groupby('state').sum())\n",
    "\n",
    "deaths.iloc[:, -1].nlargest(10)"
   ]
  },
  {
   "cell_type": "code",
   "execution_count": 39,
   "id": "understanding-workplace",
   "metadata": {},
   "outputs": [
    {
     "data": {
      "image/png": "[encoded data removed]",
      "text/plain": [
       "<Figure size 1008x432 with 2 Axes>"
      ]
     },
     "metadata": {
      "image/png": {
       "height": 423,
       "width": 1000
      },
      "needs_background": "light"
     },
     "output_type": "display_data"
    }
   ],
   "source": [
    "deaths_T = (deaths\n",
    " .transpose()\n",
    " .set_index(pd.to_datetime(death.columns.values)))\n",
    "\n",
    "fig, axes = plt.subplots(nrows=2, figsize=(14, 6), sharex=True)\n",
    "s = deaths_T['California']\n",
    "\n",
    "_ = s.plot(rot=0, ax=axes[0], title='Deaths by day in California')\n",
    "_ = s.pct_change().plot(rot=0, ax=axes[1], title='% change')\n",
    "_ = axes[1].set_xlabel('')\n",
    "sns.despine()\n",
    "fig.tight_layout()"
   ]
  },
  {
   "cell_type": "code",
   "execution_count": 37,
   "id": "dimensional-attribute",
   "metadata": {},
   "outputs": [
    {
     "data": {
      "text/plain": [
       "2021-01-12    2.2\n",
       "2021-01-13    1.7\n",
       "2021-01-14    2.0\n",
       "2021-01-15    2.1\n",
       "2021-01-16    1.2\n",
       "Name: California, dtype: float64"
      ]
     },
     "execution_count": 37,
     "metadata": {},
     "output_type": "execute_result"
    }
   ],
   "source": [
    "(s.pct_change().tail() * 100).round(1)"
   ]
  }
 ],
 "metadata": {
  "kernelspec": {
   "display_name": "Python 3",
   "language": "python",
   "name": "python3"
  },
  "language_info": {
   "codemirror_mode": {
    "name": "ipython",
    "version": 3
   },
   "file_extension": ".py",
   "mimetype": "text/x-python",
   "name": "python",
   "nbconvert_exporter": "python",
   "pygments_lexer": "ipython3",
   "version": "3.7.9"
  }
 },
 "nbformat": 4,
 "nbformat_minor": 5
}
